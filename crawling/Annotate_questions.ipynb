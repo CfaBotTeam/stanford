{
 "cells": [
  {
   "cell_type": "code",
   "execution_count": 38,
   "metadata": {
    "collapsed": true
   },
   "outputs": [],
   "source": [
    "import json\n",
    "import pandas as pd"
   ]
  },
  {
   "cell_type": "code",
   "execution_count": 39,
   "metadata": {
    "collapsed": true
   },
   "outputs": [],
   "source": [
    "# Load questions\n",
    "with open('../data/datasets/new_eval_dataset.json') as f:\n",
    "    questions = json.loads(f.read())"
   ]
  },
  {
   "cell_type": "code",
   "execution_count": 40,
   "metadata": {},
   "outputs": [],
   "source": [
    "# Load documents\n",
    "docs = json.load(open('all_data_collected.json'))\n",
    "docs_df = pd.DataFrame(docs, columns=['id', 'text'])"
   ]
  },
  {
   "cell_type": "code",
   "execution_count": 41,
   "metadata": {
    "collapsed": false
   },
   "outputs": [
    {
     "data": {
      "text/plain": [
       "{'answer': 'B',\n",
       " 'choices': ['Ha: 60% versus Ha: 6< 0%.',\n",
       "  'Ho: 0< 0, versus H;: 0 > 00.',\n",
       "  'Hó: 0 = 0, versus H,: 0 # 00.'],\n",
       " 'eval': [{'doc': '',\n",
       "   'spans': [{'char_end': '', 'char_start': '', 'response': 'subjective'}]},\n",
       "  {'doc': '', 'spans': [{'char_end': '', 'char_start': '', 'response': ''}]}],\n",
       " 'question': 'When an investigator wants to test whether a particular parameter is greater than a specific value, the null and alternative hypothesis are best defined as:'}"
      ]
     },
     "execution_count": 41,
     "metadata": {},
     "output_type": "execute_result"
    }
   ],
   "source": [
    "questions['72']"
   ]
  },
  {
   "cell_type": "code",
   "execution_count": null,
   "metadata": {},
   "outputs": [],
   "source": [
    "# 72 To be deleted"
   ]
  },
  {
   "cell_type": "code",
   "execution_count": 42,
   "metadata": {},
   "outputs": [
    {
     "data": {
      "text/plain": [
       "{'answer': 'C',\n",
       " 'choices': ['perfectly elastic.', 'inelastic.', 'elastic.'],\n",
       " 'eval': [{'doc': '',\n",
       "   'spans': [{'char_end': '', 'char_start': '', 'response': 'subjective'}]},\n",
       "  {'doc': '', 'spans': [{'char_end': '', 'char_start': '', 'response': ''}]}],\n",
       " 'question': 'Over a given period, the price of a commodity falls by 5.0%, and the quantity demanded rises by 7.5%. The price elasticity of demand for the commodity is best described as:'}"
      ]
     },
     "execution_count": 42,
     "metadata": {},
     "output_type": "execute_result"
    }
   ],
   "source": [
    "questions['73']"
   ]
  },
  {
   "cell_type": "code",
   "execution_count": 43,
   "metadata": {},
   "outputs": [
    {
     "data": {
      "text/html": [
       "<div>\n",
       "<style scoped>\n",
       "    .dataframe tbody tr th:only-of-type {\n",
       "        vertical-align: middle;\n",
       "    }\n",
       "\n",
       "    .dataframe tbody tr th {\n",
       "        vertical-align: top;\n",
       "    }\n",
       "\n",
       "    .dataframe thead th {\n",
       "        text-align: right;\n",
       "    }\n",
       "</style>\n",
       "<table border=\"1\" class=\"dataframe\">\n",
       "  <thead>\n",
       "    <tr style=\"text-align: right;\">\n",
       "      <th></th>\n",
       "      <th>id</th>\n",
       "      <th>text</th>\n",
       "    </tr>\n",
       "  </thead>\n",
       "  <tbody>\n",
       "    <tr>\n",
       "      <th>60</th>\n",
       "      <td>Investopedia_CFA_60</td>\n",
       "      <td>\\n        Now that you have completed the basi...</td>\n",
       "    </tr>\n",
       "    <tr>\n",
       "      <th>61</th>\n",
       "      <td>Investopedia_CFA_61</td>\n",
       "      <td>\\nDeterminants of price elasticity include:\\n\\...</td>\n",
       "    </tr>\n",
       "    <tr>\n",
       "      <th>16712</th>\n",
       "      <td>Investopedia_10835</td>\n",
       "      <td>Arc Elasticity of Demand: There are two possib...</td>\n",
       "    </tr>\n",
       "    <tr>\n",
       "      <th>18557</th>\n",
       "      <td>Investopedia_23305</td>\n",
       "      <td>BREAKING DOWN 'Demand Elasticity': One common ...</td>\n",
       "    </tr>\n",
       "    <tr>\n",
       "      <th>27611</th>\n",
       "      <td>Investopedia_21897</td>\n",
       "      <td>What is 'Cross Elasticity Of Demand': Cross el...</td>\n",
       "    </tr>\n",
       "    <tr>\n",
       "      <th>42226</th>\n",
       "      <td>1331</td>\n",
       "      <td>LOS 14.a Elasticity is measured as the ratio o...</td>\n",
       "    </tr>\n",
       "    <tr>\n",
       "      <th>42534</th>\n",
       "      <td>1062</td>\n",
       "      <td>When an increase in the price of a related goo...</td>\n",
       "    </tr>\n",
       "    <tr>\n",
       "      <th>42548</th>\n",
       "      <td>1063</td>\n",
       "      <td>When an increase in the price of a related goo...</td>\n",
       "    </tr>\n",
       "    <tr>\n",
       "      <th>43058</th>\n",
       "      <td>1061</td>\n",
       "      <td>Cross Price Elasticity of Demand Recall that s...</td>\n",
       "    </tr>\n",
       "    <tr>\n",
       "      <th>43251</th>\n",
       "      <td>1536</td>\n",
       "      <td>Own-Price Elasticity of Demand Own-price elast...</td>\n",
       "    </tr>\n",
       "    <tr>\n",
       "      <th>44167</th>\n",
       "      <td>1020</td>\n",
       "      <td>10 20 30 40 50 60 70 80 At point (a), in a hig...</td>\n",
       "    </tr>\n",
       "    <tr>\n",
       "      <th>44730</th>\n",
       "      <td>1108</td>\n",
       "      <td>Qp gas = 107,500 – 12,500P gas Calculate the p...</td>\n",
       "    </tr>\n",
       "  </tbody>\n",
       "</table>\n",
       "</div>"
      ],
      "text/plain": [
       "                        id                                               text\n",
       "60     Investopedia_CFA_60  \\n        Now that you have completed the basi...\n",
       "61     Investopedia_CFA_61  \\nDeterminants of price elasticity include:\\n\\...\n",
       "16712   Investopedia_10835  Arc Elasticity of Demand: There are two possib...\n",
       "18557   Investopedia_23305  BREAKING DOWN 'Demand Elasticity': One common ...\n",
       "27611   Investopedia_21897  What is 'Cross Elasticity Of Demand': Cross el...\n",
       "42226                 1331  LOS 14.a Elasticity is measured as the ratio o...\n",
       "42534                 1062  When an increase in the price of a related goo...\n",
       "42548                 1063  When an increase in the price of a related goo...\n",
       "43058                 1061  Cross Price Elasticity of Demand Recall that s...\n",
       "43251                 1536  Own-Price Elasticity of Demand Own-price elast...\n",
       "44167                 1020  10 20 30 40 50 60 70 80 At point (a), in a hig...\n",
       "44730                 1108  Qp gas = 107,500 – 12,500P gas Calculate the p..."
      ]
     },
     "execution_count": 43,
     "metadata": {},
     "output_type": "execute_result"
    }
   ],
   "source": [
    "# Who to find the appropriate documents documents\n",
    "docs_df[docs_df['text'].str.contains('price elasticity') &\n",
    "        docs_df['text'].str.contains('quantity demanded') &\n",
    "        docs_df['text'].str.contains('price') &\n",
    "        docs_df['text'].str.contains('elastic')]"
   ]
  },
  {
   "cell_type": "code",
   "execution_count": 46,
   "metadata": {},
   "outputs": [
    {
     "data": {
      "text/plain": [
       "\"\\nDeterminants of price elasticity include:\\n\\n\\nAvailability of substitutes - if substitutes are plentiful, then demand should be elastic. \\n\\nRelative percentage of expenditure - if an item takes up a considerable proportion of a consumer's income, then demand should be elastic; if it takes up a very small amount, then demand should be expected to be inelastic. \\n\\nAmount of time - consumers can make more adjustments to prices changes over time and, therefore, demand tends to be more elastic as time passes.\\n\\nNecessities or luxuries - demand for necessities will tend to be inelastic, while demand for luxuries will tend to be elastic.\\n\\nCross Elasticity of Demand\\nCross elasticity of demand relates the percentage change in quantity demanded of a good to the percentage change in price of a substitute or complementary good. Examples of complementary goods would include peanut butter and jelly, and large SUVs and gasoline. The cross elasticity of demand will be positive for a substitute, and negative for a complement; i.e. demand for a substitute (complement) will go up (down), if the price of the substitute (complement) goes up.\\n\\nThe following formula can be used to calculate cross-elasticity of demand: \\n\\n\\n\\n\\n\\nFormula 3.2\\n\\n\\nWhere: CEp is the cross-price elasticity coefficient,\\r\\n\\t\\t\\t\\t%ΔQ represents the percentage change in quantity demanded, and\\r\\n\\t\\t\\t\\t%ΔP represents the percentage change in price of the substitute or complement.\\n\\n\\n\\n\\nIncome Elasticity\\nIncome Elasticity is defined as the percentage change in quantity demanded divided by the percentage change in income. The calculations are similar to those for price elasticity, except that the denominator would include a change in income instead of a change in price.\\n\\nUsually the amount of goods purchased will be positively correlated with income; if consumers' incomes go up (down), more (less) goods will be purchased. Any good with a positive income of elasticity of demand is said to be a normal good. Luxury goods have high income elasticity (greater than one). The proportionate amount of spending for those goods will go up as incomes increase.\\n\\nThe amount spent on some goods decrease as incomes goes up. Such goods are referred to as inferior goods. Examples of inferior goods include margarine (inferior to butter) and bus travel (inferior to owning a vehicle).\\n\\n\\n    \""
      ]
     },
     "execution_count": 46,
     "metadata": {},
     "output_type": "execute_result"
    }
   ],
   "source": [
    "docs_df.iloc[61]['text']"
   ]
  },
  {
   "cell_type": "code",
   "execution_count": 44,
   "metadata": {},
   "outputs": [],
   "source": [
    "# Example once the span and doc is found\n",
    "res = {'doc': 'Investopedia_123', 'spans': [{'char_end': 123, 'char_start': 110, 'response': 'my span'}]}\n",
    "questions['73']['eval'] = res"
   ]
  },
  {
   "cell_type": "code",
   "execution_count": 45,
   "metadata": {},
   "outputs": [
    {
     "data": {
      "text/plain": [
       "{'answer': 'C',\n",
       " 'choices': ['perfectly elastic.', 'inelastic.', 'elastic.'],\n",
       " 'eval': {'doc': 'Investopedia_123',\n",
       "  'spans': [{'char_end': 123, 'char_start': 110, 'response': 'my span'}]},\n",
       " 'question': 'Over a given period, the price of a commodity falls by 5.0%, and the quantity demanded rises by 7.5%. The price elasticity of demand for the commodity is best described as:'}"
      ]
     },
     "execution_count": 45,
     "metadata": {},
     "output_type": "execute_result"
    }
   ],
   "source": [
    "questions['73']"
   ]
  },
  {
   "cell_type": "code",
   "execution_count": 47,
   "metadata": {},
   "outputs": [],
   "source": [
    "# Finally write the results back to file\n",
    "# Write eval\n",
    "with open('../data/datasets/new_eval_dataset.json', 'w') as f:\n",
    "    content = json.dumps(questions)\n",
    "    f.write(content)"
   ]
  }
 ],
 "metadata": {
  "kernelspec": {
   "display_name": "MDI720",
   "language": "python",
   "name": "mdi720"
  },
  "language_info": {
   "codemirror_mode": {
    "name": "ipython",
    "version": 3
   },
   "file_extension": ".py",
   "mimetype": "text/x-python",
   "name": "python",
   "nbconvert_exporter": "python",
   "pygments_lexer": "ipython3",
   "version": "3.6.3"
  }
 },
 "nbformat": 4,
 "nbformat_minor": 2
}
